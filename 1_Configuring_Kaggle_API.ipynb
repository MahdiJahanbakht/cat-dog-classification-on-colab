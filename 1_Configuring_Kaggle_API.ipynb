{
  "nbformat": 4,
  "nbformat_minor": 0,
  "metadata": {
    "colab": {
      "name": "1_Configuring_Kaggle_API.ipynb",
      "version": "0.3.2",
      "provenance": [],
      "collapsed_sections": [],
      "include_colab_link": true
    },
    "kernelspec": {
      "name": "python3",
      "display_name": "Python 3"
    }
  },
  "cells": [
    {
      "cell_type": "markdown",
      "metadata": {
        "id": "view-in-github",
        "colab_type": "text"
      },
      "source": [
        "<a href=\"https://colab.research.google.com/github/MahdiJahanbakht/cat-dog-classification-on-colab/blob/master/1_Configuring_Kaggle_API.ipynb\" target=\"_parent\"><img src=\"https://colab.research.google.com/assets/colab-badge.svg\" alt=\"Open In Colab\"/></a>"
      ]
    },
    {
      "metadata": {
        "id": "EdlneFkOZIR2",
        "colab_type": "text"
      },
      "cell_type": "markdown",
      "source": [
        "# Installing Kaggle Library\n",
        "\n",
        "This note book is exactly what is provided [here](https://colab.research.google.com/drive/1eufc8aNCdjHbrBhuy7M7X6BGyzAyRbrF#scrollTo=mf2ENBI217Zd) as a recipe for using [Kaggle API](https://github.com/Kaggle/kaggle-api) with Colab with a slight modification.\n",
        "\n",
        "In order to use Kaggle API, you have to first sign up for a Kaggle account at [https://www.kaggle.com](https://www.kaggle.com). Then, you should do the following steps:\n",
        "\n",
        "* Click on your **user icon** then select **My Account**\n",
        "* In **API** section click on **Create New API Token** button. This triggers downloading of a json file named **kaggle.json** would be downloaded. This file contains your API credentials. Actually this is a simple file containing your **username** and a generated **API key** for your user \n",
        "* You have to upload this file to your **Google Drive > My Drive** directory \n",
        "\n",
        "By running next code blocks, it first installs Kaggle on your Colab VM. Then, the next block downloads your credentials, so you can start using Kaggle API."
      ]
    },
    {
      "metadata": {
        "id": "KA188sxjYW8W",
        "colab_type": "text"
      },
      "cell_type": "markdown",
      "source": [
        "### Install Kaggle API"
      ]
    },
    {
      "metadata": {
        "id": "Yo0NIse9OhhT",
        "colab_type": "code",
        "colab": {}
      },
      "cell_type": "code",
      "source": [
        "!pip install kaggle"
      ],
      "execution_count": 0,
      "outputs": []
    },
    {
      "metadata": {
        "id": "mNvvM85ptFh3",
        "colab_type": "text"
      },
      "cell_type": "markdown",
      "source": [
        "If it is your first time to run this code, you have to do as the following:\n",
        "* First run the block\n",
        "* By doing so, it will appear a link in the output. Click on it\n",
        "* Then, choose your account and in the next window allow **Google Cloud SDK** to do what ever it wants :)\n",
        "* In the next page copy the verification code provided for you in the box that has been appeared below the aforementioned link in the output and press **Enter**\n",
        "This would do the trick and your credentials will be downloaded to your Colab VM."
      ]
    },
    {
      "metadata": {
        "id": "nHxecTV8YbbH",
        "colab_type": "text"
      },
      "cell_type": "markdown",
      "source": [
        "### Download credentials"
      ]
    },
    {
      "metadata": {
        "id": "X4JQaXljOusp",
        "colab_type": "code",
        "colab": {}
      },
      "cell_type": "code",
      "source": [
        "from googleapiclient.discovery import build\n",
        "import io, os\n",
        "from googleapiclient.http import MediaIoBaseDownload\n",
        "from google.colab import auth\n",
        "\n",
        "auth.authenticate_user()\n",
        "\n",
        "drive_service = build('drive', 'v3')\n",
        "results = drive_service.files().list(\n",
        "        q=\"name = 'kaggle.json'\", fields=\"files(id)\").execute()\n",
        "kaggle_api_key = results.get('files', [])\n",
        "\n",
        "filename = \"/content/.kaggle/kaggle.json\"\n",
        "os.makedirs(os.path.dirname(filename), exist_ok=True)\n",
        "\n",
        "request = drive_service.files().get_media(fileId=kaggle_api_key[0]['id'])\n",
        "fh = io.FileIO(filename, 'wb')\n",
        "downloader = MediaIoBaseDownload(fh, request)\n",
        "done = False\n",
        "while done is False:\n",
        "    status, done = downloader.next_chunk()\n",
        "    print(\"Download %d%%.\" % int(status.progress() * 100))\n",
        "os.chmod(filename, 600)"
      ],
      "execution_count": 0,
      "outputs": []
    },
    {
      "metadata": {
        "id": "Om4gYjJAYk63",
        "colab_type": "text"
      },
      "cell_type": "markdown",
      "source": [
        "### Move credentials to home directory\n",
        "This line of code is very important, since `/content/.kaggle/kaggle.json` is not in Kaggle APIs default search path."
      ]
    },
    {
      "metadata": {
        "id": "4AYVledaOxeB",
        "colab_type": "code",
        "colab": {}
      },
      "cell_type": "code",
      "source": [
        "# !mkdir ~/.kaggle\n"
        "!cp /content/.kaggle/kaggle.json ~/.kaggle/kaggle.json"
      ],
      "execution_count": 0,
      "outputs": []
    },
    {
      "metadata": {
        "id": "WNDPCcyNspmW",
        "colab_type": "text"
      },
      "cell_type": "markdown",
      "source": [
        "### Let's test our work"
      ]
    },
    {
      "metadata": {
        "id": "uDrqZc0iO0gD",
        "colab_type": "code",
        "colab": {}
      },
      "cell_type": "code",
      "source": [
        "!kaggle competitions list"
      ],
      "execution_count": 0,
      "outputs": []
    },
    {
      "metadata": {
        "id": "V_vFg9S8s1ol",
        "colab_type": "code",
        "colab": {}
      },
      "cell_type": "code",
      "source": [
        ""
      ],
      "execution_count": 0,
      "outputs": []
    }
  ]
}
